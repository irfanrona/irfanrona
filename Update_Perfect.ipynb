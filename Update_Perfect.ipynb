{
  "cells": [
    {
      "cell_type": "markdown",
      "metadata": {
        "id": "view-in-github",
        "colab_type": "text"
      },
      "source": [
        "<a href=\"https://colab.research.google.com/github/irfanrona/irfanrona/blob/main/Update_Perfect.ipynb\" target=\"_parent\"><img src=\"https://colab.research.google.com/assets/colab-badge.svg\" alt=\"Open In Colab\"/></a>"
      ]
    },
    {
      "cell_type": "markdown",
      "source": [
        "# 1. Setup the web ui"
      ],
      "metadata": {
        "id": "bsiZpfkU7S77"
      }
    },
    {
      "cell_type": "code",
      "source": [
        "from google.colab import drive\n",
        "drive.mount('/content/drive')\n",
        "\n",
        "#/content/drive/MyDrive/Colab Notebooks"
      ],
      "metadata": {
        "id": "acM0tUuy8U9N"
      },
      "execution_count": null,
      "outputs": []
    },
    {
      "cell_type": "code",
      "execution_count": null,
      "metadata": {
        "id": "sBbcB4vwj_jm"
      },
      "outputs": [],
      "source": [
        "!curl -Lo memfix.zip https://github.com/nolanaatama/sd-webui/raw/main/memfix.zip\n",
        "!unzip /content/memfix.zip\n",
        "!apt install -qq libunwind8-dev\n",
        "!dpkg -i *.deb\n",
        "%env LD_PRELOAD=libtcmalloc.so\n",
        "!rm *\n",
        "!pip install --upgrade fastapi==0.90.1\n",
        "!pip install torch==1.13.1+cu116 torchvision==0.14.1+cu116 torchaudio==0.13.1 torchtext==0.14.1 torchdata==0.5.1 --extra-index-url https://download.pytorch.org/whl/cu116 -U\n",
        "!git clone https://github.com/AUTOMATIC1111/stable-diffusion-webui\n",
        "!git clone https://github.com/nolanaatama/sd-webui-tunnels /content/stable-diffusion-webui/extensions/sd-webui-tunnels\n",
        "!git clone https://github.com/Mikubill/sd-webui-controlnet /content/stable-diffusion-webui/extensions/sd-webui-controlnet\n",
        "!git clone https://github.com/hnmr293/posex /content/stable-diffusion-webui/extensions/posex\n",
        "!git clone https://github.com/yfszzx/stable-diffusion-webui-images-browser /content/stable-diffusion-webui/extensions/stable-diffusion-webui-images-browser\n",
        "\n",
        "# Model(s) setup\n",
        "# Below are model code for ChilloutMix, we always could change it to our desired model (how-to: https://youtu.be/vj-QrS_mWQI or https://youtu.be/MwyfwPFezvY)\n",
        "#!curl -Lo /content/stable-diffusion-webui/models/Stable-diffusion/chilloutmixni.safetensors https://huggingface.co/nolanaatama/chomni/resolve/main/chomni.safetensors\n",
        "#!curl -Lo /content/stable-diffusion-webui/models/Stable-diffusion/pw.safetensors https://huggingface.co/nolanaatama/prfctwrld/resolve/main/prfctwrld.safetensors\n",
        "\n",
        "# RPG SFW\n",
        "#!curl -Lo /content/stable-diffusion-webui/models/Stable-diffusion/rpg_V4.safetensors https://huggingface.co/ascalanco/rpg_v4/resolve/main/rpg_V4.safetensors\n",
        "\n",
        "# Cetus Model Below\n",
        "!curl -Lo /content/stable-diffusion-webui/models/Stable-diffusion/cetusmix.safetensors https://huggingface.co/nolanaatama/ctsmx/resolve/main/ctsmx.safetensors\n",
        "!curl -Lo /content/stable-diffusion-webui/models/Stable-diffusion/cetusmix.vae.pt https://huggingface.co/nolanaatama/ctsmx/resolve/main/ctsmx.vae.pt\n",
        "\n",
        "# Anime Model Meina Mix\n",
        "#!curl -Lo /content/stable-diffusion-webui/models/Stable-diffusion/meina.safetensors https://huggingface.co/Meina/MeinaMix/resolve/main/Meina%20V8%20baked%20VAE.safetensors\n",
        "\n",
        "!curl -Lo /content/stable-diffusion-webui/models/Stable-diffusion/rev_1.2.safetensors https://huggingface.co/s6yx/ReV_Animated/resolve/main/rev_1.2.safetensors\n",
        "\n",
        "# VAE\n",
        "!curl -Lo /content/stable-diffusion-webui/models/Stable-diffusion/rev_1.2.vae.pt https://huggingface.co/stabilityai/sd-vae-ft-ema-original/resolve/main/vae-ft-ema-560000-ema-pruned.ckpt\n",
        "\n",
        "# ControlNet\n",
        "!curl -Lo /content/stable-diffusion-webui/extensions/sd-webui-controlnet/models/control_canny.safetensors https://huggingface.co/webui/ControlNet-modules-safetensors/resolve/main/control_canny-fp16.safetensors\n",
        "!curl -Lo /content/stable-diffusion-webui/extensions/sd-webui-controlnet/models/control_depth.safetensors https://huggingface.co/webui/ControlNet-modules-safetensors/resolve/main/control_depth-fp16.safetensors\n",
        "!curl -Lo /content/stable-diffusion-webui/extensions/sd-webui-controlnet/models/control_hed-fp16.safetensors https://huggingface.co/webui/ControlNet-modules-safetensors/resolve/main/control_hed-fp16.safetensors\n",
        "!curl -Lo /content/stable-diffusion-webui/extensions/sd-webui-controlnet/models/control_mlsd-fp16.safetensors https://huggingface.co/webui/ControlNet-modules-safetensors/resolve/main/control_mlsd-fp16.safetensors\n",
        "!curl -Lo /content/stable-diffusion-webui/extensions/sd-webui-controlnet/models/control_normal-fp16.safetensors https://huggingface.co/webui/ControlNet-modules-safetensors/resolve/main/control_normal-fp16.safetensors\n",
        "!curl -Lo /content/stable-diffusion-webui/extensions/sd-webui-controlnet/models/control_openpose-fp16.safetensors https://huggingface.co/webui/ControlNet-modules-safetensors/resolve/main/control_openpose-fp16.safetensors\n",
        "!curl -Lo /content/stable-diffusion-webui/extensions/sd-webui-controlnet/models/control_scribble-fp16.safetensors https://huggingface.co/webui/ControlNet-modules-safetensors/resolve/main/control_scribble-fp16.safetensors\n",
        "!curl -Lo /content/stable-diffusion-webui/extensions/sd-webui-controlnet/models/control_seg-fp16.safetensors https://huggingface.co/webui/ControlNet-modules-safetensors/resolve/main/control_seg-fp16.safetensors\n",
        "!curl -Lo /content/stable-diffusion-webui/extensions/sd-webui-controlnet/models/t2iadapter_canny_sd14v1.pth https://huggingface.co/TencentARC/T2I-Adapter/resolve/main/models/t2iadapter_canny_sd14v1.pth\n",
        "!curl -Lo /content/stable-diffusion-webui/extensions/sd-webui-controlnet/models/t2iadapter_color_sd14v1.pth https://huggingface.co/TencentARC/T2I-Adapter/resolve/main/models/t2iadapter_color_sd14v1.pth\n",
        "!curl -Lo /content/stable-diffusion-webui/extensions/sd-webui-controlnet/models/t2iadapter_depth_sd14v1.pth https://huggingface.co/TencentARC/T2I-Adapter/resolve/main/models/t2iadapter_depth_sd14v1.pth\n",
        "!curl -Lo /content/stable-diffusion-webui/extensions/sd-webui-controlnet/models/t2iadapter_keypose_sd14v1.pth https://huggingface.co/TencentARC/T2I-Adapter/resolve/main/models/t2iadapter_keypose_sd14v1.pth\n",
        "!curl -Lo /content/stable-diffusion-webui/extensions/sd-webui-controlnet/models/t2iadapter_openpose_sd14v1.pth https://huggingface.co/TencentARC/T2I-Adapter/resolve/main/models/t2iadapter_openpose_sd14v1.pth\n",
        "!curl -Lo /content/stable-diffusion-webui/extensions/sd-webui-controlnet/models/t2iadapter_seg_sd14v1.pth https://huggingface.co/TencentARC/T2I-Adapter/resolve/main/models/t2iadapter_seg_sd14v1.pth\n",
        "!curl -Lo /content/stable-diffusion-webui/extensions/sd-webui-controlnet/models/t2iadapter_sketch_sd14v1.pth https://huggingface.co/TencentARC/T2I-Adapter/resolve/main/models/t2iadapter_sketch_sd14v1.pth\n",
        "!curl -Lo /content/stable-diffusion-webui/extensions/sd-webui-controlnet/models/t2iadapter_style_sd14v1.pth https://huggingface.co/TencentARC/T2I-Adapter/resolve/main/models/t2iadapter_style_sd14v1.pth\n",
        "import shutil\n",
        "shutil.rmtree('/content/stable-diffusion-webui/embeddings')\n",
        "%cd /content/stable-diffusion-webui\n",
        "!git checkout 0cc0ee1\n",
        "!git clone https://huggingface.co/nolanaatama/embeddings\n",
        "%cd /content/stable-diffusion-webui/models\n",
        "!git clone https://huggingface.co/nolanaatama/ESRGAN\n",
        "%cd /content/stable-diffusion-webui\n",
        "# Web UI tunnel\n",
        "!COMMANDLINE_ARGS=\"--share --disable-safe-unpickle --no-half-vae --xformers --reinstall-xformers --enable-insecure-extension --gradio-queue --remotemoe\" REQS_FILE=\"requirements.txt\" python launch.py\n",
        "# If remotemoe failed to start, change '--remotemoe' to '--cloudflared' on the COMMANDLINE_ARGS line above to use cloudflare tunnel"
      ]
    },
    {
      "cell_type": "markdown",
      "source": [
        "# 2. After the gradio link show up, stop the first cell & clear the code output👆"
      ],
      "metadata": {
        "id": "JUtPlg328avv"
      }
    },
    {
      "cell_type": "markdown",
      "source": [
        "# 3. Load the LoRA & launch the web ui"
      ],
      "metadata": {
        "id": "qxhOCPrg7WXm"
      }
    },
    {
      "cell_type": "code",
      "source": [
        "# LoRA Code\n",
        "!curl -Lo /content/stable-diffusion-webui/models/Lora/chineseβmalelikeness3.safetensors https://huggingface.co/nolanaatama/chnsbtmllknss/resolve/main/chnsbtmllknss.safetensors\n",
        "!curl -Lo /content/stable-diffusion-webui/models/Lora/mix4.safetensors https://huggingface.co/nolanaatama/ctgrlmx/resolve/main/ctgrlmx.safetensors\n",
        "!curl -Lo /content/stable-diffusion-webui/models/Lora/jdllora.safetensors https://huggingface.co/nolanaatama/jdllora/resolve/main/jdllora.safetensors\n",
        "!curl -Lo /content/stable-diffusion-webui/models/Lora/shojovibe_v11.safetensors https://huggingface.co/tomspy/shojovibe_v11.safetensors/resolve/main/shojovibe_v11.safetensors\n",
        "!curl -Lo /content/stable-diffusion-webui/models/Lora/adventurers_v1.safetensors https://huggingface.co/redlum/Adventurers/resolve/main/adventurers_v1.safetensors\n",
        "!curl -Lo /content/stable-diffusion-webui/models/Lora/gundamRX782OutfitStyle_v10.safetensors https://huggingface.co/KatarLegacy/gundamRX782OutfitStyle_v10/resolve/main/gundamRX782OutfitStyle_v10.safetensors\n",
        "!curl -Lo /content/stable-diffusion-webui/models/Lora/blindbox_v1_mix.safetensors https://huggingface.co/samecorner/blindbox/resolve/main/blindbox_v1_mix.safetensors\n",
        "\n",
        "#Bershin Impact\n",
        "#https://huggingface.co/SakerLy/yaeMikoRealistic_yaemikoMixed/blob/main/yaeMikoRealistic_yaemikoMixed.safetensors\n",
        "#https://huggingface.co/datamonet/Raiden_Shogun_Realistic_Genshin_LORA/blob/main/raidenShogunRealistic_raidenshogunHandsfix.safetensors\n",
        "\n",
        "\n",
        "# Web UI tunnel\n",
        "!COMMANDLINE_ARGS=\"--share --disable-safe-unpickle --no-half-vae --xformers --reinstall-xformers --enable-insecure-extension --gradio-queue --remotemoe\" REQS_FILE=\"requirements.txt\" python launch.py\n",
        "# If remotemoe failed to start, change '--remotemoe' to '--cloudflared' on the COMMANDLINE_ARGS line above to use cloudflare tunnel"
      ],
      "metadata": {
        "id": "pZVeLcbD70Lf",
        "colab": {
          "base_uri": "https://localhost:8080/"
        },
        "outputId": "5e78fcf3-7b1b-461b-a358-91ad9dde0fcf"
      },
      "execution_count": 3,
      "outputs": [
        {
          "output_type": "stream",
          "name": "stdout",
          "text": [
            "SwinIR tiles: 100% 54/54 [01:02<00:00,  1.17s/it]\n",
            "SwinIR tiles: 100% 54/54 [01:03<00:00,  1.17s/it]\n",
            "SwinIR tiles: 100% 15/15 [00:17<00:00,  1.18s/it]\n",
            "SwinIR tiles: 100% 15/15 [00:17<00:00,  1.17s/it]\n",
            "SwinIR tiles: 100% 15/15 [00:16<00:00,  1.13s/it]\n",
            "SwinIR tiles: 100% 15/15 [00:16<00:00,  1.12s/it]\n",
            "SwinIR tiles: 100% 15/15 [00:17<00:00,  1.14s/it]\n",
            "SwinIR tiles: 100% 15/15 [00:17<00:00,  1.14s/it]\n",
            "SwinIR tiles: 100% 15/15 [00:17<00:00,  1.15s/it]\n",
            "SwinIR tiles: 100% 15/15 [00:17<00:00,  1.17s/it]\n",
            "SwinIR tiles: 100% 15/15 [00:17<00:00,  1.16s/it]\n",
            "SwinIR tiles: 100% 15/15 [00:17<00:00,  1.18s/it]\n",
            "SwinIR tiles: 100% 15/15 [00:18<00:00,  1.21s/it]\n",
            "SwinIR tiles: 100% 15/15 [00:17<00:00,  1.18s/it]\n",
            "SwinIR tiles: 100% 15/15 [00:17<00:00,  1.20s/it]\n",
            "SwinIR tiles: 100% 15/15 [00:17<00:00,  1.18s/it]\n",
            "SwinIR tiles: 100% 54/54 [01:02<00:00,  1.16s/it]\n",
            "SwinIR tiles: 100% 54/54 [01:00<00:00,  1.12s/it]\n",
            "SwinIR tiles: 100% 54/54 [01:02<00:00,  1.16s/it]\n",
            "SwinIR tiles: 100% 54/54 [01:01<00:00,  1.14s/it]\n",
            "SwinIR tiles: 100% 54/54 [01:02<00:00,  1.15s/it]\n",
            "SwinIR tiles: 100% 54/54 [01:00<00:00,  1.12s/it]\n",
            "SwinIR tiles: 100% 54/54 [01:01<00:00,  1.14s/it]\n",
            "SwinIR tiles: 100% 54/54 [01:02<00:00,  1.15s/it]\n",
            "SwinIR tiles: 100% 54/54 [01:01<00:00,  1.13s/it]\n",
            "SwinIR tiles: 100% 54/54 [01:01<00:00,  1.14s/it]\n",
            "Interrupted with signal 2 in <frame at 0x10e679810, file '/content/stable-diffusion-webui/webui.py', line 173, code wait_on_server>\n"
          ]
        }
      ]
    },
    {
      "cell_type": "code",
      "source": [
        "# Web UI tunnel\n",
        "!COMMANDLINE_ARGS=\"--share --disable-safe-unpickle --no-half-vae --xformers --reinstall-xformers --enable-insecure-extension --gradio-queue --remotemoe\" REQS_FILE=\"requirements.txt\" python launch.py"
      ],
      "metadata": {
        "id": "UefpM_SCfDoY",
        "colab": {
          "base_uri": "https://localhost:8080/"
        },
        "outputId": "69c5dde0-e249-4fab-bc64-6d25476d8735"
      },
      "execution_count": null,
      "outputs": [
        {
          "output_type": "stream",
          "name": "stdout",
          "text": [
            "Interrupted with signal 2 in <frame at 0x100ef3810, file '/content/stable-diffusion-webui/webui.py', line 173, code wait_on_server>\n"
          ]
        }
      ]
    },
    {
      "cell_type": "markdown",
      "metadata": {
        "id": "fhwIXzcgfkoR"
      },
      "source": [
        "# 📚 GitHub for more: [_@nolanaatama_](https://github.com/nolanaatama)\n",
        "# 📦 Repo: [Github](https://github.com/nolanaatama/sd-1click-colab)"
      ]
    }
  ],
  "metadata": {
    "accelerator": "GPU",
    "colab": {
      "provenance": [],
      "include_colab_link": true
    },
    "gpuClass": "standard",
    "kernelspec": {
      "display_name": "Python 3",
      "name": "python3"
    },
    "language_info": {
      "name": "python"
    }
  },
  "nbformat": 4,
  "nbformat_minor": 0
}